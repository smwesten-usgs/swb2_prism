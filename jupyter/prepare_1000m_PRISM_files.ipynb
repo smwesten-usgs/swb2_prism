{
 "cells": [
  {
   "cell_type": "code",
   "execution_count": 1,
   "metadata": {},
   "outputs": [],
   "source": [
    "import site\n",
    "site.addsitedir('../python')  # Always appends to end\n",
    "\n",
    "import gdal_functions as gd\n",
    "import ntpath\n",
    "from osgeo.gdal import GDT_Byte, GDT_Float32, GDT_Int32\n",
    "import zipfile as zip\n",
    "import os\n",
    "from pathlib import Path"
   ]
  },
  {
   "cell_type": "code",
   "execution_count": 2,
   "metadata": {},
   "outputs": [],
   "source": [
    "# modified so that the PRISM and SWB grids are at a 1km resolution\n",
    "grid_details = {\"xul\": -60000., \n",
    "\"yul\": 1735325., \n",
    "\"rotation\": 0.0, \n",
    "\"proj4_str\": \"+proj=aea +lat_1=29.5 +lat_2=45.5 +lat_0=23 +lon_0=-96 +x_0=0 +y_0=0 +datum=NAD83 +units=m +no_defs\", \n",
    "\"nrow\": 1115, \n",
    "\"ncol\": 1110, \n",
    "\"delr\": 1000.0, \n",
    "\"delc\": 1000.0, \n",
    "\"epsg\": 5070}\n",
    "\n",
    "grd = grid_details\n",
    "\n",
    "grd['xll'] = grd['xul']\n",
    "grd['yll'] = grd['yul'] - grd['nrow'] * grd['delr']\n",
    "\n",
    "grd['xur'] = grd['xul'] + grd['ncol'] * grd['delc']\n",
    "grd['yur'] = grd['yul']\n",
    "\n",
    "target_resolution = str(grd['delr']).split('.')[0]\n",
    "\n",
    "starting_year = 1981\n",
    "ending_year = 1981"
   ]
  },
  {
   "cell_type": "code",
   "execution_count": 3,
   "metadata": {},
   "outputs": [],
   "source": [
    "file_prefix = 'map__'\n",
    "variable_names = ['ppt','tmin', 'tmax']"
   ]
  },
  {
   "cell_type": "code",
   "execution_count": 4,
   "metadata": {},
   "outputs": [],
   "source": [
    "prism_data_dir = Path('../test_data')\n",
    "current_dir = Path.cwd()\n",
    "output_path = current_dir.parent / 'output'\n",
    "output_path.mkdir(parents=True, exist_ok=True)"
   ]
  },
  {
   "cell_type": "code",
   "execution_count": 5,
   "metadata": {},
   "outputs": [],
   "source": [
    "# shamelessly stolen from https://stackoverflow.com/questions/8384737/extract-file-name-from-path-no-matter-what-the-os-path-format/8384788\n",
    "def path_leaf(path):\n",
    "    head, tail = ntpath.split(path)\n",
    "    return tail or ntpath.basename(head)\n",
    "\n",
    "# shamelessly stolen from https://stackoverflow.com/questions/18394147/recursive-sub-folder-search-and-return-files-in-a-list-python\n",
    "prism_filelist = list(Path(prism_data_dir).rglob(\"*.zip\"))"
   ]
  },
  {
   "cell_type": "code",
   "execution_count": 8,
   "metadata": {},
   "outputs": [
    {
     "name": "stdout",
     "output_type": "stream",
     "text": [
      "  output =>  e:\\projects\\swb_development\\git\\swb2_prism\\output\\map__ppt__19810101__1000m.asc\n",
      "  output =>  e:\\projects\\swb_development\\git\\swb2_prism\\output\\map__ppt__19810102__1000m.asc\n",
      "  output =>  e:\\projects\\swb_development\\git\\swb2_prism\\output\\map__tmax__19810101__1000m.asc\n",
      "  output =>  e:\\projects\\swb_development\\git\\swb2_prism\\output\\map__tmax__19810102__1000m.asc\n",
      "  output =>  e:\\projects\\swb_development\\git\\swb2_prism\\output\\map__tmin__19810101__1000m.asc\n",
      "  output =>  e:\\projects\\swb_development\\git\\swb2_prism\\output\\map__tmin__19810102__1000m.asc\n"
     ]
    }
   ],
   "source": [
    "for prism_filename in prism_filelist:\n",
    "    for variable_name in variable_names:\n",
    "        prism_file = str(prism_filename)\n",
    "        # we are only interested in 'zip' files for now\n",
    "        if str(prism_file).endswith('zip'):\n",
    "            prism_zip_file = str(prism_file)\n",
    "            prism_file_basename = path_leaf(prism_zip_file)\n",
    "            # hacky code to extract the date from the filename\n",
    "            mylist = prism_file_basename.replace(\".\",\"_\").split(\"_\")\n",
    "            list_len = len(mylist)\n",
    "            param_name = mylist[1]\n",
    "            file_date = mylist[list_len - 3]\n",
    "            myyear = int(file_date[0:4])\n",
    "        \n",
    "            if myyear >= starting_year and myyear <= ending_year and param_name == variable_name:\n",
    "                # unzip the *.zip file and do some file renaming\n",
    "                myzip = zip.ZipFile(str(prism_zip_file))\n",
    "                mybil=prism_file_basename.replace(\".zip\",\".bil\")\n",
    "                myprj=prism_file_basename.replace(\".zip\",\".prj\")\n",
    "                myhdr=prism_file_basename.replace(\".zip\",\".hdr\")\n",
    "                myzip.extract(mybil)\n",
    "                myzip.extract(myprj)\n",
    "                myzip.extract(myhdr)\n",
    "\n",
    "                # create the new output filename\n",
    "                prism_output_file_path = output_path / str( file_prefix + param_name + '__' + file_date + '__' + str(target_resolution) + 'm' )\n",
    "                prism_ascii_output_file = str(prism_output_file_path) + '.asc'\n",
    "                prism_tiff_output_file = 'PRISM_temp.tif'\n",
    "                print(\"  output => \", prism_ascii_output_file)\n",
    "                # gdalwarp: perform nearest neighbor, resample to swb grid resolution, reproject data\n",
    "                gd.gdalwarp( src_file=mybil, \n",
    "                      dst_file=prism_tiff_output_file,\n",
    "                      src_proj4=gd.get_proj4(myprj),\n",
    "                      dst_proj4=grd['proj4_str'],\n",
    "                      nx=grd['ncol'],\n",
    "                      ny=grd['nrow'],\n",
    "                      xll=grd['xll'],\n",
    "                      yll=grd['yll'],\n",
    "                      xur=grd['xur'],\n",
    "                      yur=grd['yur'],\n",
    "                      output_type=GDT_Float32,\n",
    "                      resample_algorithm='near')\n",
    "                # translate the 'tif' file into Arc ASCII\n",
    "                gd.gdal_translate(src_file=prism_tiff_output_file, dst_file=prism_ascii_output_file)\n",
    "                # clean up remaining temp files\n",
    "                os.remove(prism_tiff_output_file)\n",
    "                os.remove(mybil)\n",
    "                os.remove(myprj)\n",
    "                os.remove(myhdr)"
   ]
  },
  {
   "cell_type": "code",
   "execution_count": null,
   "metadata": {},
   "outputs": [],
   "source": []
  }
 ],
 "metadata": {
  "kernelspec": {
   "display_name": "Python 3",
   "language": "python",
   "name": "python3"
  },
  "language_info": {
   "codemirror_mode": {
    "name": "ipython",
    "version": 3
   },
   "file_extension": ".py",
   "mimetype": "text/x-python",
   "name": "python",
   "nbconvert_exporter": "python",
   "pygments_lexer": "ipython3",
   "version": "3.12.0"
  },
  "orig_nbformat": 2
 },
 "nbformat": 4,
 "nbformat_minor": 2
}
